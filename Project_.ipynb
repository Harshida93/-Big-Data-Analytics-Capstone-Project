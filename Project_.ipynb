{
 "cells": [
  {
   "cell_type": "code",
   "execution_count": 2,
   "metadata": {},
   "outputs": [],
   "source": [
    "import pandas as pd\n",
    "import numpy as np\n",
    "import matplotlib.pyplot as plt\n",
    "from mpl_toolkits.basemap import Basemap\n",
    "import time\n",
    "from matplotlib import pyplot as plt\n",
    "from matplotlib.patches import Polygon\n",
    "from matplotlib.collections import PatchCollection\n",
    "from descartes import PolygonPatch\n",
    "import missingno as msn\n",
    "import geopandas as gpd\n",
    "from shapely.geometry import  Point\n",
    "import seaborn as sns\n",
    "import folium\n",
    "from sklearn.preprocessing import LabelEncoder\n",
    "from sklearn.model_selection import train_test_split\n",
    "from sklearn.metrics import log_loss\n",
    "from sklearn import metrics"
   ]
  },
  {
   "cell_type": "code",
   "execution_count": 3,
   "metadata": {},
   "outputs": [],
   "source": [
    "train = pd.read_csv(\"C:/Users/Surface/Documents/BDA_106/Data/Project_SF/train.csv\", parse_dates=['Dates'])\n",
    "test = pd.read_csv(\"C:/Users/Surface/Documents/BDA_106/Data/Project_SF/test.csv\", parse_dates=['Dates'], index_col = 'Id')"
   ]
  },
  {
   "cell_type": "code",
   "execution_count": 4,
   "metadata": {},
   "outputs": [
    {
     "data": {
      "text/html": [
       "<div>\n",
       "<style scoped>\n",
       "    .dataframe tbody tr th:only-of-type {\n",
       "        vertical-align: middle;\n",
       "    }\n",
       "\n",
       "    .dataframe tbody tr th {\n",
       "        vertical-align: top;\n",
       "    }\n",
       "\n",
       "    .dataframe thead th {\n",
       "        text-align: right;\n",
       "    }\n",
       "</style>\n",
       "<table border=\"1\" class=\"dataframe\">\n",
       "  <thead>\n",
       "    <tr style=\"text-align: right;\">\n",
       "      <th></th>\n",
       "      <th>Dates</th>\n",
       "      <th>Category</th>\n",
       "      <th>Descript</th>\n",
       "      <th>DayOfWeek</th>\n",
       "      <th>PdDistrict</th>\n",
       "      <th>Resolution</th>\n",
       "      <th>Address</th>\n",
       "      <th>X</th>\n",
       "      <th>Y</th>\n",
       "    </tr>\n",
       "  </thead>\n",
       "  <tbody>\n",
       "    <tr>\n",
       "      <th>0</th>\n",
       "      <td>2015-05-13 23:53:00</td>\n",
       "      <td>WARRANTS</td>\n",
       "      <td>WARRANT ARREST</td>\n",
       "      <td>Wednesday</td>\n",
       "      <td>NORTHERN</td>\n",
       "      <td>ARREST, BOOKED</td>\n",
       "      <td>OAK ST / LAGUNA ST</td>\n",
       "      <td>-122.425892</td>\n",
       "      <td>37.774599</td>\n",
       "    </tr>\n",
       "    <tr>\n",
       "      <th>1</th>\n",
       "      <td>2015-05-13 23:53:00</td>\n",
       "      <td>OTHER OFFENSES</td>\n",
       "      <td>TRAFFIC VIOLATION ARREST</td>\n",
       "      <td>Wednesday</td>\n",
       "      <td>NORTHERN</td>\n",
       "      <td>ARREST, BOOKED</td>\n",
       "      <td>OAK ST / LAGUNA ST</td>\n",
       "      <td>-122.425892</td>\n",
       "      <td>37.774599</td>\n",
       "    </tr>\n",
       "    <tr>\n",
       "      <th>2</th>\n",
       "      <td>2015-05-13 23:33:00</td>\n",
       "      <td>OTHER OFFENSES</td>\n",
       "      <td>TRAFFIC VIOLATION ARREST</td>\n",
       "      <td>Wednesday</td>\n",
       "      <td>NORTHERN</td>\n",
       "      <td>ARREST, BOOKED</td>\n",
       "      <td>VANNESS AV / GREENWICH ST</td>\n",
       "      <td>-122.424363</td>\n",
       "      <td>37.800414</td>\n",
       "    </tr>\n",
       "    <tr>\n",
       "      <th>3</th>\n",
       "      <td>2015-05-13 23:30:00</td>\n",
       "      <td>LARCENY/THEFT</td>\n",
       "      <td>GRAND THEFT FROM LOCKED AUTO</td>\n",
       "      <td>Wednesday</td>\n",
       "      <td>NORTHERN</td>\n",
       "      <td>NONE</td>\n",
       "      <td>1500 Block of LOMBARD ST</td>\n",
       "      <td>-122.426995</td>\n",
       "      <td>37.800873</td>\n",
       "    </tr>\n",
       "    <tr>\n",
       "      <th>4</th>\n",
       "      <td>2015-05-13 23:30:00</td>\n",
       "      <td>LARCENY/THEFT</td>\n",
       "      <td>GRAND THEFT FROM LOCKED AUTO</td>\n",
       "      <td>Wednesday</td>\n",
       "      <td>PARK</td>\n",
       "      <td>NONE</td>\n",
       "      <td>100 Block of BRODERICK ST</td>\n",
       "      <td>-122.438738</td>\n",
       "      <td>37.771541</td>\n",
       "    </tr>\n",
       "  </tbody>\n",
       "</table>\n",
       "</div>"
      ],
      "text/plain": [
       "                Dates        Category                      Descript  \\\n",
       "0 2015-05-13 23:53:00        WARRANTS                WARRANT ARREST   \n",
       "1 2015-05-13 23:53:00  OTHER OFFENSES      TRAFFIC VIOLATION ARREST   \n",
       "2 2015-05-13 23:33:00  OTHER OFFENSES      TRAFFIC VIOLATION ARREST   \n",
       "3 2015-05-13 23:30:00   LARCENY/THEFT  GRAND THEFT FROM LOCKED AUTO   \n",
       "4 2015-05-13 23:30:00   LARCENY/THEFT  GRAND THEFT FROM LOCKED AUTO   \n",
       "\n",
       "   DayOfWeek PdDistrict      Resolution                    Address  \\\n",
       "0  Wednesday   NORTHERN  ARREST, BOOKED         OAK ST / LAGUNA ST   \n",
       "1  Wednesday   NORTHERN  ARREST, BOOKED         OAK ST / LAGUNA ST   \n",
       "2  Wednesday   NORTHERN  ARREST, BOOKED  VANNESS AV / GREENWICH ST   \n",
       "3  Wednesday   NORTHERN            NONE   1500 Block of LOMBARD ST   \n",
       "4  Wednesday       PARK            NONE  100 Block of BRODERICK ST   \n",
       "\n",
       "            X          Y  \n",
       "0 -122.425892  37.774599  \n",
       "1 -122.425892  37.774599  \n",
       "2 -122.424363  37.800414  \n",
       "3 -122.426995  37.800873  \n",
       "4 -122.438738  37.771541  "
      ]
     },
     "execution_count": 4,
     "metadata": {},
     "output_type": "execute_result"
    }
   ],
   "source": [
    "train.head()"
   ]
  },
  {
   "cell_type": "code",
   "execution_count": 5,
   "metadata": {},
   "outputs": [
    {
     "data": {
      "text/html": [
       "<div>\n",
       "<style scoped>\n",
       "    .dataframe tbody tr th:only-of-type {\n",
       "        vertical-align: middle;\n",
       "    }\n",
       "\n",
       "    .dataframe tbody tr th {\n",
       "        vertical-align: top;\n",
       "    }\n",
       "\n",
       "    .dataframe thead th {\n",
       "        text-align: right;\n",
       "    }\n",
       "</style>\n",
       "<table border=\"1\" class=\"dataframe\">\n",
       "  <thead>\n",
       "    <tr style=\"text-align: right;\">\n",
       "      <th></th>\n",
       "      <th>Dates</th>\n",
       "      <th>DayOfWeek</th>\n",
       "      <th>PdDistrict</th>\n",
       "      <th>Address</th>\n",
       "      <th>X</th>\n",
       "      <th>Y</th>\n",
       "    </tr>\n",
       "    <tr>\n",
       "      <th>Id</th>\n",
       "      <th></th>\n",
       "      <th></th>\n",
       "      <th></th>\n",
       "      <th></th>\n",
       "      <th></th>\n",
       "      <th></th>\n",
       "    </tr>\n",
       "  </thead>\n",
       "  <tbody>\n",
       "    <tr>\n",
       "      <th>0</th>\n",
       "      <td>2015-05-10 23:59:00</td>\n",
       "      <td>Sunday</td>\n",
       "      <td>BAYVIEW</td>\n",
       "      <td>2000 Block of THOMAS AV</td>\n",
       "      <td>-122.399588</td>\n",
       "      <td>37.735051</td>\n",
       "    </tr>\n",
       "    <tr>\n",
       "      <th>1</th>\n",
       "      <td>2015-05-10 23:51:00</td>\n",
       "      <td>Sunday</td>\n",
       "      <td>BAYVIEW</td>\n",
       "      <td>3RD ST / REVERE AV</td>\n",
       "      <td>-122.391523</td>\n",
       "      <td>37.732432</td>\n",
       "    </tr>\n",
       "    <tr>\n",
       "      <th>2</th>\n",
       "      <td>2015-05-10 23:50:00</td>\n",
       "      <td>Sunday</td>\n",
       "      <td>NORTHERN</td>\n",
       "      <td>2000 Block of GOUGH ST</td>\n",
       "      <td>-122.426002</td>\n",
       "      <td>37.792212</td>\n",
       "    </tr>\n",
       "    <tr>\n",
       "      <th>3</th>\n",
       "      <td>2015-05-10 23:45:00</td>\n",
       "      <td>Sunday</td>\n",
       "      <td>INGLESIDE</td>\n",
       "      <td>4700 Block of MISSION ST</td>\n",
       "      <td>-122.437394</td>\n",
       "      <td>37.721412</td>\n",
       "    </tr>\n",
       "    <tr>\n",
       "      <th>4</th>\n",
       "      <td>2015-05-10 23:45:00</td>\n",
       "      <td>Sunday</td>\n",
       "      <td>INGLESIDE</td>\n",
       "      <td>4700 Block of MISSION ST</td>\n",
       "      <td>-122.437394</td>\n",
       "      <td>37.721412</td>\n",
       "    </tr>\n",
       "  </tbody>\n",
       "</table>\n",
       "</div>"
      ],
      "text/plain": [
       "                 Dates DayOfWeek PdDistrict                   Address  \\\n",
       "Id                                                                      \n",
       "0  2015-05-10 23:59:00    Sunday    BAYVIEW   2000 Block of THOMAS AV   \n",
       "1  2015-05-10 23:51:00    Sunday    BAYVIEW        3RD ST / REVERE AV   \n",
       "2  2015-05-10 23:50:00    Sunday   NORTHERN    2000 Block of GOUGH ST   \n",
       "3  2015-05-10 23:45:00    Sunday  INGLESIDE  4700 Block of MISSION ST   \n",
       "4  2015-05-10 23:45:00    Sunday  INGLESIDE  4700 Block of MISSION ST   \n",
       "\n",
       "             X          Y  \n",
       "Id                         \n",
       "0  -122.399588  37.735051  \n",
       "1  -122.391523  37.732432  \n",
       "2  -122.426002  37.792212  \n",
       "3  -122.437394  37.721412  \n",
       "4  -122.437394  37.721412  "
      ]
     },
     "execution_count": 5,
     "metadata": {},
     "output_type": "execute_result"
    }
   ],
   "source": [
    "test.head()"
   ]
  },
  {
   "cell_type": "code",
   "execution_count": 6,
   "metadata": {},
   "outputs": [
    {
     "name": "stdout",
     "output_type": "stream",
     "text": [
      "(878049, 9)\n",
      "(884262, 6)\n"
     ]
    }
   ],
   "source": [
    "print (train.shape)\n",
    "print (test.shape)"
   ]
  },
  {
   "cell_type": "code",
   "execution_count": 7,
   "metadata": {},
   "outputs": [
    {
     "data": {
      "text/plain": [
       "Dates         datetime64[ns]\n",
       "Category              object\n",
       "Descript              object\n",
       "DayOfWeek             object\n",
       "PdDistrict            object\n",
       "Resolution            object\n",
       "Address               object\n",
       "X                    float64\n",
       "Y                    float64\n",
       "dtype: object"
      ]
     },
     "execution_count": 7,
     "metadata": {},
     "output_type": "execute_result"
    }
   ],
   "source": [
    "train.dtypes"
   ]
  },
  {
   "cell_type": "code",
   "execution_count": 8,
   "metadata": {},
   "outputs": [
    {
     "data": {
      "text/plain": [
       "<matplotlib.axes._subplots.AxesSubplot at 0x1e62b0223c8>"
      ]
     },
     "execution_count": 8,
     "metadata": {},
     "output_type": "execute_result"
    },
    {
     "data": {
      "image/png": "[encoded data removed]",
      "text/plain": [
       "<Figure size 1728x720 with 3 Axes>"
      ]
     },
     "metadata": {
      "needs_background": "light"
     },
     "output_type": "display_data"
    }
   ],
   "source": [
    "msn.bar(train, color = 'blue')"
   ]
  },
  {
   "cell_type": "code",
   "execution_count": 9,
   "metadata": {},
   "outputs": [
    {
     "data": {
      "image/png": "[encoded data removed]",
      "text/plain": [
       "<Figure size 432x288 with 1 Axes>"
      ]
     },
     "metadata": {
      "needs_background": "light"
     },
     "output_type": "display_data"
    }
   ],
   "source": [
    "def create_geodf(df):\n",
    "    geodf = df.copy()\n",
    "    geodf['Coordinates'] = list(zip(geodf.X, geodf.Y))\n",
    "    geodf.Coordinates = geodf.Coordinates.apply(Point)\n",
    "    geodf = gpd.GeoDataFrame(geodf, geometry='Coordinates', crs={'init': 'epsg:4326'})\n",
    "    return geodf\n",
    "\n",
    "train_geodf = create_geodf(train)\n",
    "world = gpd.read_file(gpd.datasets.get_path('naturalearth_lowres'))\n",
    "point = world.plot()\n",
    "train_geodf.plot(ax=point, color = 'red')\n",
    "plt.show()"
   ]
  },
  {
   "cell_type": "code",
   "execution_count": 10,
   "metadata": {},
   "outputs": [
    {
     "name": "stdout",
     "output_type": "stream",
     "text": [
      "67\n"
     ]
    },
    {
     "data": {
      "text/html": [
       "<div>\n",
       "<style scoped>\n",
       "    .dataframe tbody tr th:only-of-type {\n",
       "        vertical-align: middle;\n",
       "    }\n",
       "\n",
       "    .dataframe tbody tr th {\n",
       "        vertical-align: top;\n",
       "    }\n",
       "\n",
       "    .dataframe thead th {\n",
       "        text-align: right;\n",
       "    }\n",
       "</style>\n",
       "<table border=\"1\" class=\"dataframe\">\n",
       "  <thead>\n",
       "    <tr style=\"text-align: right;\">\n",
       "      <th></th>\n",
       "      <th>Dates</th>\n",
       "      <th>Category</th>\n",
       "      <th>Descript</th>\n",
       "      <th>DayOfWeek</th>\n",
       "      <th>PdDistrict</th>\n",
       "      <th>Resolution</th>\n",
       "      <th>Address</th>\n",
       "      <th>X</th>\n",
       "      <th>Y</th>\n",
       "      <th>Coordinates</th>\n",
       "    </tr>\n",
       "  </thead>\n",
       "  <tbody>\n",
       "    <tr>\n",
       "      <th>673078</th>\n",
       "      <td>2005-10-23 20:00:00</td>\n",
       "      <td>LARCENY/THEFT</td>\n",
       "      <td>GRAND THEFT FROM LOCKED AUTO</td>\n",
       "      <td>Sunday</td>\n",
       "      <td>RICHMOND</td>\n",
       "      <td>NONE</td>\n",
       "      <td>AVENUE OF THE PALMS / GEARY BL</td>\n",
       "      <td>-120.5</td>\n",
       "      <td>90.0</td>\n",
       "      <td>POINT (-120.50000 90.00000)</td>\n",
       "    </tr>\n",
       "    <tr>\n",
       "      <th>767318</th>\n",
       "      <td>2004-06-24 13:00:00</td>\n",
       "      <td>OTHER OFFENSES</td>\n",
       "      <td>TRAFFIC VIOLATION</td>\n",
       "      <td>Thursday</td>\n",
       "      <td>MISSION</td>\n",
       "      <td>ARREST, CITED</td>\n",
       "      <td>FLORIDA ST / ALAMEDA ST</td>\n",
       "      <td>-120.5</td>\n",
       "      <td>90.0</td>\n",
       "      <td>POINT (-120.50000 90.00000)</td>\n",
       "    </tr>\n",
       "    <tr>\n",
       "      <th>673115</th>\n",
       "      <td>2005-10-23 18:11:00</td>\n",
       "      <td>OTHER OFFENSES</td>\n",
       "      <td>INDECENT EXPOSURE</td>\n",
       "      <td>Sunday</td>\n",
       "      <td>TARAVAL</td>\n",
       "      <td>ARREST, BOOKED</td>\n",
       "      <td>STCHARLES AV / 19TH AV</td>\n",
       "      <td>-120.5</td>\n",
       "      <td>90.0</td>\n",
       "      <td>POINT (-120.50000 90.00000)</td>\n",
       "    </tr>\n",
       "    <tr>\n",
       "      <th>688950</th>\n",
       "      <td>2005-08-09 23:15:00</td>\n",
       "      <td>OTHER OFFENSES</td>\n",
       "      <td>DRIVERS LICENSE, SUSPENDED OR REVOKED</td>\n",
       "      <td>Tuesday</td>\n",
       "      <td>TARAVAL</td>\n",
       "      <td>ARREST, CITED</td>\n",
       "      <td>GENEVA AV / INTERSTATE280 HY</td>\n",
       "      <td>-120.5</td>\n",
       "      <td>90.0</td>\n",
       "      <td>POINT (-120.50000 90.00000)</td>\n",
       "    </tr>\n",
       "    <tr>\n",
       "      <th>871198</th>\n",
       "      <td>2003-02-05 12:00:00</td>\n",
       "      <td>LARCENY/THEFT</td>\n",
       "      <td>PETTY THEFT FROM LOCKED AUTO</td>\n",
       "      <td>Wednesday</td>\n",
       "      <td>SOUTHERN</td>\n",
       "      <td>NONE</td>\n",
       "      <td>SPEAR ST / THE EMBARCADERO SOUTH ST</td>\n",
       "      <td>-120.5</td>\n",
       "      <td>90.0</td>\n",
       "      <td>POINT (-120.50000 90.00000)</td>\n",
       "    </tr>\n",
       "    <tr>\n",
       "      <th>682780</th>\n",
       "      <td>2005-09-09 00:03:00</td>\n",
       "      <td>ASSAULT</td>\n",
       "      <td>BATTERY</td>\n",
       "      <td>Friday</td>\n",
       "      <td>TENDERLOIN</td>\n",
       "      <td>NONE</td>\n",
       "      <td>ELLIS ST / 5THSTNORTH ST</td>\n",
       "      <td>-120.5</td>\n",
       "      <td>90.0</td>\n",
       "      <td>POINT (-120.50000 90.00000)</td>\n",
       "    </tr>\n",
       "    <tr>\n",
       "      <th>767501</th>\n",
       "      <td>2004-06-24 00:03:00</td>\n",
       "      <td>DISORDERLY CONDUCT</td>\n",
       "      <td>COMMITTING PUBLIC NUISANCE</td>\n",
       "      <td>Thursday</td>\n",
       "      <td>NORTHERN</td>\n",
       "      <td>ARREST, BOOKED</td>\n",
       "      <td>AUSTIN ST / LARKIN ST</td>\n",
       "      <td>-120.5</td>\n",
       "      <td>90.0</td>\n",
       "      <td>POINT (-120.50000 90.00000)</td>\n",
       "    </tr>\n",
       "    <tr>\n",
       "      <th>772431</th>\n",
       "      <td>2004-05-28 18:00:00</td>\n",
       "      <td>VEHICLE THEFT</td>\n",
       "      <td>VEHICLE, RECOVERED, OTHER VEHICLE</td>\n",
       "      <td>Friday</td>\n",
       "      <td>SOUTHERN</td>\n",
       "      <td>NONE</td>\n",
       "      <td>BRYANT ST / SPEAR ST</td>\n",
       "      <td>-120.5</td>\n",
       "      <td>90.0</td>\n",
       "      <td>POINT (-120.50000 90.00000)</td>\n",
       "    </tr>\n",
       "    <tr>\n",
       "      <th>727080</th>\n",
       "      <td>2005-01-25 21:32:00</td>\n",
       "      <td>OTHER OFFENSES</td>\n",
       "      <td>FALSE EVIDENCE OF VEHICLE REGISTRATION</td>\n",
       "      <td>Tuesday</td>\n",
       "      <td>TENDERLOIN</td>\n",
       "      <td>ARREST, BOOKED</td>\n",
       "      <td>EDDY ST / 5THSTNORTH ST</td>\n",
       "      <td>-120.5</td>\n",
       "      <td>90.0</td>\n",
       "      <td>POINT (-120.50000 90.00000)</td>\n",
       "    </tr>\n",
       "    <tr>\n",
       "      <th>823378</th>\n",
       "      <td>2003-09-21 13:00:00</td>\n",
       "      <td>LARCENY/THEFT</td>\n",
       "      <td>GRAND THEFT FROM LOCKED AUTO</td>\n",
       "      <td>Sunday</td>\n",
       "      <td>BAYVIEW</td>\n",
       "      <td>NONE</td>\n",
       "      <td>GILMAN AV / FITCH ST</td>\n",
       "      <td>-120.5</td>\n",
       "      <td>90.0</td>\n",
       "      <td>POINT (-120.50000 90.00000)</td>\n",
       "    </tr>\n",
       "  </tbody>\n",
       "</table>\n",
       "</div>"
      ],
      "text/plain": [
       "                     Dates            Category  \\\n",
       "673078 2005-10-23 20:00:00       LARCENY/THEFT   \n",
       "767318 2004-06-24 13:00:00      OTHER OFFENSES   \n",
       "673115 2005-10-23 18:11:00      OTHER OFFENSES   \n",
       "688950 2005-08-09 23:15:00      OTHER OFFENSES   \n",
       "871198 2003-02-05 12:00:00       LARCENY/THEFT   \n",
       "682780 2005-09-09 00:03:00             ASSAULT   \n",
       "767501 2004-06-24 00:03:00  DISORDERLY CONDUCT   \n",
       "772431 2004-05-28 18:00:00       VEHICLE THEFT   \n",
       "727080 2005-01-25 21:32:00      OTHER OFFENSES   \n",
       "823378 2003-09-21 13:00:00       LARCENY/THEFT   \n",
       "\n",
       "                                      Descript  DayOfWeek  PdDistrict  \\\n",
       "673078            GRAND THEFT FROM LOCKED AUTO     Sunday    RICHMOND   \n",
       "767318                       TRAFFIC VIOLATION   Thursday     MISSION   \n",
       "673115                       INDECENT EXPOSURE     Sunday     TARAVAL   \n",
       "688950   DRIVERS LICENSE, SUSPENDED OR REVOKED    Tuesday     TARAVAL   \n",
       "871198            PETTY THEFT FROM LOCKED AUTO  Wednesday    SOUTHERN   \n",
       "682780                                 BATTERY     Friday  TENDERLOIN   \n",
       "767501              COMMITTING PUBLIC NUISANCE   Thursday    NORTHERN   \n",
       "772431       VEHICLE, RECOVERED, OTHER VEHICLE     Friday    SOUTHERN   \n",
       "727080  FALSE EVIDENCE OF VEHICLE REGISTRATION    Tuesday  TENDERLOIN   \n",
       "823378            GRAND THEFT FROM LOCKED AUTO     Sunday     BAYVIEW   \n",
       "\n",
       "            Resolution                              Address      X     Y  \\\n",
       "673078            NONE       AVENUE OF THE PALMS / GEARY BL -120.5  90.0   \n",
       "767318   ARREST, CITED              FLORIDA ST / ALAMEDA ST -120.5  90.0   \n",
       "673115  ARREST, BOOKED               STCHARLES AV / 19TH AV -120.5  90.0   \n",
       "688950   ARREST, CITED         GENEVA AV / INTERSTATE280 HY -120.5  90.0   \n",
       "871198            NONE  SPEAR ST / THE EMBARCADERO SOUTH ST -120.5  90.0   \n",
       "682780            NONE             ELLIS ST / 5THSTNORTH ST -120.5  90.0   \n",
       "767501  ARREST, BOOKED                AUSTIN ST / LARKIN ST -120.5  90.0   \n",
       "772431            NONE                 BRYANT ST / SPEAR ST -120.5  90.0   \n",
       "727080  ARREST, BOOKED              EDDY ST / 5THSTNORTH ST -120.5  90.0   \n",
       "823378            NONE                 GILMAN AV / FITCH ST -120.5  90.0   \n",
       "\n",
       "                        Coordinates  \n",
       "673078  POINT (-120.50000 90.00000)  \n",
       "767318  POINT (-120.50000 90.00000)  \n",
       "673115  POINT (-120.50000 90.00000)  \n",
       "688950  POINT (-120.50000 90.00000)  \n",
       "871198  POINT (-120.50000 90.00000)  \n",
       "682780  POINT (-120.50000 90.00000)  \n",
       "767501  POINT (-120.50000 90.00000)  \n",
       "772431  POINT (-120.50000 90.00000)  \n",
       "727080  POINT (-120.50000 90.00000)  \n",
       "823378  POINT (-120.50000 90.00000)  "
      ]
     },
     "execution_count": 10,
     "metadata": {},
     "output_type": "execute_result"
    }
   ],
   "source": [
    "print(train_geodf.loc[train_geodf.Y > 50].count()[0])\n",
    "train_geodf.loc[train_geodf.Y > 50].sample(10)"
   ]
  },
  {
   "cell_type": "code",
   "execution_count": 12,
   "metadata": {},
   "outputs": [],
   "source": [
    "from sklearn.impute import SimpleImputer\n",
    "train.drop_duplicates(inplace=True)\n",
    "train.replace({'X':-120.5,'Y':90.0},np.NaN,inplace=True)\n",
    "test.replace({'X':-120.5,'Y':90.0},np.NaN,inplace=True)\n",
    "\n",
    "imp_mean = SimpleImputer(strategy='mean')\n",
    "\n",
    "for district in train['PdDistrict'].unique():\n",
    "    train.loc[train['PdDistrict'] == district,['X','Y']] = imp_mean.fit_transform(train.loc[train['PdDistrict'] == district,['X','Y']])\n",
    "    test.loc[test['PdDistrict'] == district,['X','Y']] = imp_mean.fit_transform(test.loc[test['PdDistrict'] == district,['X','Y']])\n",
    "\n",
    "train_geodf = create_geodf(train)"
   ]
  },
  {
   "cell_type": "code",
   "execution_count": 13,
   "metadata": {},
   "outputs": [
    {
     "data": {
      "image/png": "[encoded data removed]",
      "text/plain": [
       "<Figure size 720x720 with 1 Axes>"
      ]
     },
     "metadata": {
      "needs_background": "light"
     },
     "output_type": "display_data"
    }
   ],
   "source": [
    "data_category = train.groupby('Category').count().iloc[:,0].sort_values(ascending= False)\n",
    "plt.figure(figsize=(10,10))\n",
    "sns.set(style= 'whitegrid')\n",
    "ax = sns.barplot((data_category.values/data_category.values.sum())*100,data_category.index)\n",
    "plt.title('Incidents per crime category')\n",
    "plt.show()"
   ]
  },
  {
   "cell_type": "code",
   "execution_count": 15,
   "metadata": {},
   "outputs": [
    {
     "data": {
      "text/plain": [
       "<folium.map.LayerControl at 0x1e633a7ff98>"
      ]
     },
     "execution_count": 15,
     "metadata": {},
     "output_type": "execute_result"
    }
   ],
   "source": [
    "dis_json = r'https://cocl.us/sanfran_geojson'\n",
    "dist_crime = pd.DataFrame(train['PdDistrict'].value_counts().astype(float))\n",
    "dist_crime = dist_crime.reset_index()\n",
    "dist_crime.columns = ['District', 'Number']\n",
    "\n",
    "map_san = folium.Map(location = [37.77, -122.42], zoom_start= 12)\n",
    "map_san.choropleth(geo_data = dis_json,data = dist_crime,columns = ['District', 'Number'],\n",
    "                   key_on='feature.properties.DISTRICT',fill_color='YlOrRd',#YlGn \n",
    "                   fill_opacity=0.7,line_opacity=0.2,legend_name='Crime Rate in San Francisco')\n",
    "folium.LayerControl().add_to(map_san)\n",
    "map_san.save('#292_folium_chloropleth_SFPD.html')"
   ]
  },
  {
   "cell_type": "code",
   "execution_count": 16,
   "metadata": {},
   "outputs": [
    {
     "data": {
      "text/html": [
       "<div>\n",
       "<style scoped>\n",
       "    .dataframe tbody tr th:only-of-type {\n",
       "        vertical-align: middle;\n",
       "    }\n",
       "\n",
       "    .dataframe tbody tr th {\n",
       "        vertical-align: top;\n",
       "    }\n",
       "\n",
       "    .dataframe thead th {\n",
       "        text-align: right;\n",
       "    }\n",
       "</style>\n",
       "<table border=\"1\" class=\"dataframe\">\n",
       "  <thead>\n",
       "    <tr style=\"text-align: right;\">\n",
       "      <th></th>\n",
       "      <th>District</th>\n",
       "      <th>Number</th>\n",
       "    </tr>\n",
       "  </thead>\n",
       "  <tbody>\n",
       "    <tr>\n",
       "      <th>0</th>\n",
       "      <td>SOUTHERN</td>\n",
       "      <td>156528.0</td>\n",
       "    </tr>\n",
       "    <tr>\n",
       "      <th>1</th>\n",
       "      <td>MISSION</td>\n",
       "      <td>119723.0</td>\n",
       "    </tr>\n",
       "    <tr>\n",
       "      <th>2</th>\n",
       "      <td>NORTHERN</td>\n",
       "      <td>105105.0</td>\n",
       "    </tr>\n",
       "    <tr>\n",
       "      <th>3</th>\n",
       "      <td>BAYVIEW</td>\n",
       "      <td>89098.0</td>\n",
       "    </tr>\n",
       "    <tr>\n",
       "      <th>4</th>\n",
       "      <td>CENTRAL</td>\n",
       "      <td>85267.0</td>\n",
       "    </tr>\n",
       "    <tr>\n",
       "      <th>5</th>\n",
       "      <td>TENDERLOIN</td>\n",
       "      <td>81642.0</td>\n",
       "    </tr>\n",
       "    <tr>\n",
       "      <th>6</th>\n",
       "      <td>INGLESIDE</td>\n",
       "      <td>78722.0</td>\n",
       "    </tr>\n",
       "    <tr>\n",
       "      <th>7</th>\n",
       "      <td>TARAVAL</td>\n",
       "      <td>65400.0</td>\n",
       "    </tr>\n",
       "    <tr>\n",
       "      <th>8</th>\n",
       "      <td>PARK</td>\n",
       "      <td>49161.0</td>\n",
       "    </tr>\n",
       "    <tr>\n",
       "      <th>9</th>\n",
       "      <td>RICHMOND</td>\n",
       "      <td>45080.0</td>\n",
       "    </tr>\n",
       "  </tbody>\n",
       "</table>\n",
       "</div>"
      ],
      "text/plain": [
       "     District    Number\n",
       "0    SOUTHERN  156528.0\n",
       "1     MISSION  119723.0\n",
       "2    NORTHERN  105105.0\n",
       "3     BAYVIEW   89098.0\n",
       "4     CENTRAL   85267.0\n",
       "5  TENDERLOIN   81642.0\n",
       "6   INGLESIDE   78722.0\n",
       "7     TARAVAL   65400.0\n",
       "8        PARK   49161.0\n",
       "9    RICHMOND   45080.0"
      ]
     },
     "execution_count": 16,
     "metadata": {},
     "output_type": "execute_result"
    }
   ],
   "source": [
    "dist_crime"
   ]
  },
  {
   "cell_type": "code",
   "execution_count": 17,
   "metadata": {},
   "outputs": [],
   "source": [
    "def feature_engineering(data):\n",
    "    data['Date'] = pd.to_datetime(data['Dates'].dt.date)\n",
    "    data['n_days'] = (data['Date'] - data['Date'].min()).apply(lambda x: x.days)\n",
    "    data['Day'] = data['Dates'].dt.day\n",
    "    data['DayOfWeek'] = data['Dates'].dt.weekday\n",
    "    data['Month'] = data['Dates'].dt.month\n",
    "    data['Year'] = data['Dates'].dt.year\n",
    "    data['Hour'] = data['Dates'].dt.hour\n",
    "    data['Minute'] = data['Dates'].dt.minute\n",
    "    data['Block'] = data['Address'].str.contains('block', case=False)\n",
    "    \n",
    "    data.drop(columns=['Dates','Date','Address'], inplace=True)\n",
    "        \n",
    "    return data"
   ]
  },
  {
   "cell_type": "code",
   "execution_count": 18,
   "metadata": {},
   "outputs": [
    {
     "data": {
      "text/html": [
       "<div>\n",
       "<style scoped>\n",
       "    .dataframe tbody tr th:only-of-type {\n",
       "        vertical-align: middle;\n",
       "    }\n",
       "\n",
       "    .dataframe tbody tr th {\n",
       "        vertical-align: top;\n",
       "    }\n",
       "\n",
       "    .dataframe thead th {\n",
       "        text-align: right;\n",
       "    }\n",
       "</style>\n",
       "<table border=\"1\" class=\"dataframe\">\n",
       "  <thead>\n",
       "    <tr style=\"text-align: right;\">\n",
       "      <th></th>\n",
       "      <th>Category</th>\n",
       "      <th>DayOfWeek</th>\n",
       "      <th>PdDistrict</th>\n",
       "      <th>X</th>\n",
       "      <th>Y</th>\n",
       "      <th>n_days</th>\n",
       "      <th>Day</th>\n",
       "      <th>Month</th>\n",
       "      <th>Year</th>\n",
       "      <th>Hour</th>\n",
       "      <th>Minute</th>\n",
       "      <th>Block</th>\n",
       "    </tr>\n",
       "  </thead>\n",
       "  <tbody>\n",
       "    <tr>\n",
       "      <th>0</th>\n",
       "      <td>WARRANTS</td>\n",
       "      <td>2</td>\n",
       "      <td>NORTHERN</td>\n",
       "      <td>-122.425892</td>\n",
       "      <td>37.774599</td>\n",
       "      <td>4510</td>\n",
       "      <td>13</td>\n",
       "      <td>5</td>\n",
       "      <td>2015</td>\n",
       "      <td>23</td>\n",
       "      <td>53</td>\n",
       "      <td>False</td>\n",
       "    </tr>\n",
       "    <tr>\n",
       "      <th>1</th>\n",
       "      <td>OTHER OFFENSES</td>\n",
       "      <td>2</td>\n",
       "      <td>NORTHERN</td>\n",
       "      <td>-122.425892</td>\n",
       "      <td>37.774599</td>\n",
       "      <td>4510</td>\n",
       "      <td>13</td>\n",
       "      <td>5</td>\n",
       "      <td>2015</td>\n",
       "      <td>23</td>\n",
       "      <td>53</td>\n",
       "      <td>False</td>\n",
       "    </tr>\n",
       "    <tr>\n",
       "      <th>2</th>\n",
       "      <td>OTHER OFFENSES</td>\n",
       "      <td>2</td>\n",
       "      <td>NORTHERN</td>\n",
       "      <td>-122.424363</td>\n",
       "      <td>37.800414</td>\n",
       "      <td>4510</td>\n",
       "      <td>13</td>\n",
       "      <td>5</td>\n",
       "      <td>2015</td>\n",
       "      <td>23</td>\n",
       "      <td>33</td>\n",
       "      <td>False</td>\n",
       "    </tr>\n",
       "    <tr>\n",
       "      <th>3</th>\n",
       "      <td>LARCENY/THEFT</td>\n",
       "      <td>2</td>\n",
       "      <td>NORTHERN</td>\n",
       "      <td>-122.426995</td>\n",
       "      <td>37.800873</td>\n",
       "      <td>4510</td>\n",
       "      <td>13</td>\n",
       "      <td>5</td>\n",
       "      <td>2015</td>\n",
       "      <td>23</td>\n",
       "      <td>30</td>\n",
       "      <td>True</td>\n",
       "    </tr>\n",
       "    <tr>\n",
       "      <th>4</th>\n",
       "      <td>LARCENY/THEFT</td>\n",
       "      <td>2</td>\n",
       "      <td>PARK</td>\n",
       "      <td>-122.438738</td>\n",
       "      <td>37.771541</td>\n",
       "      <td>4510</td>\n",
       "      <td>13</td>\n",
       "      <td>5</td>\n",
       "      <td>2015</td>\n",
       "      <td>23</td>\n",
       "      <td>30</td>\n",
       "      <td>True</td>\n",
       "    </tr>\n",
       "  </tbody>\n",
       "</table>\n",
       "</div>"
      ],
      "text/plain": [
       "         Category  DayOfWeek PdDistrict           X          Y  n_days  Day  \\\n",
       "0        WARRANTS          2   NORTHERN -122.425892  37.774599    4510   13   \n",
       "1  OTHER OFFENSES          2   NORTHERN -122.425892  37.774599    4510   13   \n",
       "2  OTHER OFFENSES          2   NORTHERN -122.424363  37.800414    4510   13   \n",
       "3   LARCENY/THEFT          2   NORTHERN -122.426995  37.800873    4510   13   \n",
       "4   LARCENY/THEFT          2       PARK -122.438738  37.771541    4510   13   \n",
       "\n",
       "   Month  Year  Hour  Minute  Block  \n",
       "0      5  2015    23      53  False  \n",
       "1      5  2015    23      53  False  \n",
       "2      5  2015    23      33  False  \n",
       "3      5  2015    23      30   True  \n",
       "4      5  2015    23      30   True  "
      ]
     },
     "execution_count": 18,
     "metadata": {},
     "output_type": "execute_result"
    }
   ],
   "source": [
    "train = feature_engineering(train)\n",
    "train.drop(columns=['Descript','Resolution'], inplace=True)\n",
    "test = feature_engineering(test)\n",
    "train.head()"
   ]
  },
  {
   "cell_type": "code",
   "execution_count": 19,
   "metadata": {},
   "outputs": [],
   "source": [
    "le1 = LabelEncoder()\n",
    "train['PdDistrict'] = le1.fit_transform(train['PdDistrict'])\n",
    "test['PdDistrict'] = le1.transform(test['PdDistrict'])\n",
    "le2 = LabelEncoder()\n",
    "y = le2.fit_transform(train.pop('Category'))"
   ]
  },
  {
   "cell_type": "code",
   "execution_count": 21,
   "metadata": {},
   "outputs": [
    {
     "name": "stdout",
     "output_type": "stream",
     "text": [
      "Total seconds: 5.300040006637573 and loss 2.6207605503583196\n"
     ]
    }
   ],
   "source": [
    "#Building NaiveBayes Classifier\n",
    "from sklearn.naive_bayes import GaussianNB\n",
    "from sklearn.model_selection import train_test_split\n",
    "from sklearn.metrics import log_loss\n",
    "train_X, val_X, train_y, val_y = train_test_split(train, y) split percentage ??\n",
    "start_time = time.time()\n",
    "GNB = GaussianNB()\n",
    "GNB.fit(train_X, train_y)\n",
    "predicted = np.array(GNB.predict_proba(val_X))\n",
    "end_time = time.time()\n",
    "secs = (end_time - start_time)\n",
    "loss_function = log_loss(val_y,predicted)\n",
    "print(\"Total seconds: {} and loss {}\".format(secs, loss_function))"
   ]
  },
  {
   "cell_type": "code",
   "execution_count": 22,
   "metadata": {},
   "outputs": [
    {
     "name": "stdout",
     "output_type": "stream",
     "text": [
      "Accuracy: 0.19654961357864542\n"
     ]
    }
   ],
   "source": [
    "y_pred = GNB.predict(val_X)\n",
    "print(\"Accuracy:\",metrics.accuracy_score(val_y, y_pred))"
   ]
  },
  {
   "cell_type": "code",
   "execution_count": 23,
   "metadata": {},
   "outputs": [
    {
     "name": "stdout",
     "output_type": "stream",
     "text": [
      "Total seconds: 1152.7843470573425 and loss 4.799646763997968\n"
     ]
    }
   ],
   "source": [
    "#Building RandomForestClassifier\n",
    "from sklearn.ensemble import RandomForestClassifier\n",
    "start_time = time.time()\n",
    "rfc = RandomForestClassifier(n_estimators=100)\n",
    "rfc.fit(train_X, train_y)\n",
    "predicted_rfc = np.array(rfc.predict_proba(val_X))\n",
    "end_time = time.time()\n",
    "secs = (end_time - start_time)\n",
    "loss_function = log_loss(val_y,predicted_rfc)\n",
    "print(\"Total seconds: {} and loss {}\".format(secs, loss_function))"
   ]
  },
  {
   "cell_type": "code",
   "execution_count": 24,
   "metadata": {},
   "outputs": [
    {
     "name": "stdout",
     "output_type": "stream",
     "text": [
      "Accuracy: 0.3168061315842362\n"
     ]
    }
   ],
   "source": [
    "y_pred = rfc.predict(val_X)\n",
    "print(\"Accuracy:\",metrics.accuracy_score(val_y, y_pred))"
   ]
  },
  {
   "cell_type": "code",
   "execution_count": null,
   "metadata": {},
   "outputs": [],
   "source": [
    "#prediction_naive = GNB.predict_proba(test)\n",
    "#result = pd.DataFrame(prediction_naive, columns = le2.classes_)"
   ]
  },
  {
   "cell_type": "code",
   "execution_count": 25,
   "metadata": {},
   "outputs": [
    {
     "name": "stdout",
     "output_type": "stream",
     "text": [
      "Total seconds: 16.331903219223022 and loss 18.690182488791077\n"
     ]
    }
   ],
   "source": [
    "#Building KNeighborsClassifier\n",
    "from sklearn.neighbors import KNeighborsClassifier\n",
    "start_time = time.time()\n",
    "knn = KNeighborsClassifier(n_neighbors=5)\n",
    "knn.fit(train_X, train_y)\n",
    "predicted_knn = np.array(knn.predict_proba(val_X))\n",
    "end_time = time.time()\n",
    "secs = (end_time - start_time)\n",
    "loss_function = log_loss(val_y,predicted_knn)\n",
    "print(\"Total seconds: {} and loss {}\".format(secs, loss_function))"
   ]
  },
  {
   "cell_type": "code",
   "execution_count": 26,
   "metadata": {},
   "outputs": [
    {
     "name": "stdout",
     "output_type": "stream",
     "text": [
      "Accuracy: 0.17816034202400746\n"
     ]
    }
   ],
   "source": [
    "y_pred = knn.predict(val_X)\n",
    "print(\"Accuracy:\",metrics.accuracy_score(val_y, y_pred))"
   ]
  },
  {
   "cell_type": "code",
   "execution_count": null,
   "metadata": {},
   "outputs": [],
   "source": []
  }
 ],
 "metadata": {
  "kernelspec": {
   "display_name": "Python 3",
   "language": "python",
   "name": "python3"
  },
  "language_info": {
   "codemirror_mode": {
    "name": "ipython",
    "version": 3
   },
   "file_extension": ".py",
   "mimetype": "text/x-python",
   "name": "python",
   "nbconvert_exporter": "python",
   "pygments_lexer": "ipython3",
   "version": "3.7.3"
  }
 },
 "nbformat": 4,
 "nbformat_minor": 2
}
